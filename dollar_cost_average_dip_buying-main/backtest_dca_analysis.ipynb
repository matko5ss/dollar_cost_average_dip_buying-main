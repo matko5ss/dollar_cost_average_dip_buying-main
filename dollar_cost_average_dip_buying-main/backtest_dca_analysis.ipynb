{
 "cells": [
  {
   "cell_type": "code",
   "execution_count": 35,
   "metadata": {},
   "outputs": [
    {
     "name": "stdout",
     "output_type": "stream",
     "text": [
      "Overwriting README.md\n"
     ]
    }
   ],
   "source": [
    "%%writefile README.md\n",
    "# Dollar Cost Averaging - Custom DCA (buy the dip)\n",
    "\n",
    "\n",
    "# Overview\n",
    "Dollar Cost Averaging - DCA: Dividing a sum of money to invest periodically, reducing the impact of volatility on the purchase price. DCA is the commonly accepted risk mitigating way to invest in crypto. But can we do better?\n",
    "\n",
    "**Buy the dip** - I'm sure you've heard it before but it's much easier said than done. The indicators in this repo are provided to help buy the dip algorithmically: Weighting the buy amount per order to invest more when it's likely crypto is in a dip and less when it is not.\n",
    "\n",
    "This repo lets you run and backtest DCA strategies for crypto to minimise risk and maximise profits, allowing for user customisation with respect to frequency of purchasing, use of indicators and aggression or weighting\n",
    "\n",
    "### Setup instructions\n",
    "\n",
    "1. To get started you will need an exchange account from Binance/FTX/Kraken (Fee reducing referral links below):\n",
    "\n",
    "    - [x] [binance.com](https://accounts.binance.com/en/register?ref=CP1DAOWU)\n",
    "    - [x] [ftx.com](https://ftx.com/#a=33799830)\n",
    "    - [x] [kraken.com](https://r.kraken.com/KeJqje)\n",
    "\n",
    "\n",
    "2. Load up your spot wallet with USD or USDT or whatever currency you want to use to buy crypto \n",
    "<br></br>\n",
    "3. Create API keys with 'trading' permissions enabled\n",
    "<br></br>\n",
    "4. Put your API keys in a json file called `keys.json` one directory above the repo (Only the exchange keys used to trade need to be included)\n",
    "\n",
    "```\n",
    "{\n",
    "    \"binance_keys\":{\n",
    "        \"api_key\":\"XXXXXXXXXXXXXXXXXXXX\",\n",
    "        \"secret_key\":\"XXXXXXXXXXXXXXXXXXXX\"\n",
    "    },\n",
    "    \"ftx_keys\":{\n",
    "        \"api_key\":\"XXXXXXXXXXXXXXXXXXXX\",\n",
    "        \"secret_key\":\"XXXXXXXXXXXXXXXXXXXX\"\n",
    "    },\n",
    "    \"kraken_keys\":{\n",
    "        \"api_key\":\"XXXXXXXXXXXXXXXXXXXX\",\n",
    "        \"secret_key\":\"XXXXXXXXXXXXXXXXXXXX\"\n",
    "    }\n",
    "}\n",
    "```\n",
    "\n",
    "5. Install the required python packages using `pip install -r requirements.txt` from the root directory\n",
    "<br></br>\n",
    "6. Run `python dca.py` to start or `python dca.py -s` to start in simulation mode (places fake trades)\n",
    "<br></br>\n",
    "7. Follow the instructions in the command prompt to set up alternatively use the config.json file (Work in progress) \n",
    "\n",
    "Places (spot) market buy orders on the exchange at the current price, it then sleeps until the next buy interval. It will save progress so it doesn't have to be continuously run but I would reccomend running this perpetually (on a linux based microcomputer like a Rasberry Pi). Different DCA strategies will be put in as we go!\n",
    "\n",
    "Strategies tested and planning to be tested:\n",
    "- [x] According to the Crypto Fear and Greed Index https://alternative.me/crypto/fear-and-greed-index (Buys more when fear is higher, buys less when greed is higher)\n",
    "- [ ] RSI based DCA\n",
    "- [ ] Volatility Based DCA\n",
    "\n",
    "\n",
    "## Fear and Greed\n",
    "![fear_greed](fg_btc.png)\n",
    "\n",
    "The fear and greed strategy chart shows 100 - fear and greed index (red) and bitcoin price (blue). When fear is high (red line close to 100) invest more and when greed is high (red line close to 0) invest less. By doing this we can invest according to this weighting to increase the amount of BTC held over a long period of time compared to regular DCA.\n",
    "\n",
    "Current fear and greed:\n",
    "\n",
    "<img src=\"https://alternative.me/crypto/fear-and-greed-index.png\" alt=\"Latest Crypto Fear & Greed Index\" width=\"350\" height=\"300\" class=\"center\"/>\n",
    "\n",
    "### Updates\n",
    "September 13th\n",
    "- Updated analysis notebook with charts of historical fear and greed performance\n",
    "- Printing of summary statistics of dca avg buy price and total spent\n",
    "\n",
    "September 12th\n",
    "- Allows for stopping, saving and restarting allowing the user to choose to buy at the current price or skipping instead\n",
    "\n",
    "August 27th\n",
    "- FTX Set up and more intuitive UI. Also more backtesting in the analysis notebook\n",
    "\n",
    "August 12th:\n",
    "- Fear and greed DCA handling for buy amounts lower than the minimum buy amount for each coin\n",
    "\n",
    "August 8th:\n",
    "- Basic DCA works for all cryptos on Binance, needs to be run permanently\n"
   ]
  },
  {
   "cell_type": "code",
   "execution_count": 36,
   "metadata": {},
   "outputs": [
    {
     "name": "stdout",
     "output_type": "stream",
     "text": [
      "[main 31e34d4] updated fear and greed chart\n",
      " 1 file changed, 0 insertions(+), 0 deletions(-)\n",
      " rewrite fg_btc.png (99%)\n",
      "Enumerating objects: 5, done.\n",
      "Counting objects: 100% (5/5), done.\n",
      "Delta compression using up to 12 threads\n",
      "Compressing objects: 100% (3/3), done.\n",
      "Writing objects: 100% (3/3), 55.25 KiB | 27.62 MiB/s, done.\n",
      "Total 3 (delta 1), reused 0 (delta 0)\n",
      "remote: Resolving deltas: 100% (1/1), completed with 1 local object.\u001b[K\n",
      "remote: This repository moved. Please use the new location:\u001b[K\n",
      "remote:   https://github.com/jaimindp/dollar_cost_average_dip_buying.git\u001b[K\n",
      "To https://github.com/jaimindp/dollar_cost_average_crypto.git\n",
      "   c8c8172..31e34d4  main -> main\n"
     ]
    }
   ],
   "source": [
    "!git add -A && git commit -m \"updated fear and greed chart\" && git push"
   ]
  },
  {
   "cell_type": "markdown",
   "metadata": {},
   "source": [
    "# Notebook to test out different DCA strategies\n",
    "\n",
    "Ways to optimise getting into crypto minimising risk and maximising profit\n",
    "\n",
    "- [x] Regular Dollar Cost averaging\n",
    "- [x] Weighting crypto fear and greed index\n",
    "- [ ] Exponentially decreasing with price increase\n",
    "- [ ] Proportional to RSI"
   ]
  },
  {
   "cell_type": "code",
   "execution_count": 11,
   "metadata": {},
   "outputs": [],
   "source": [
    "import json\n",
    "import traceback\n",
    "import ccxt\n",
    "from datetime import datetime, timedelta\n",
    "import time\n",
    "import pytz\n",
    "from datetime import timedelta\n",
    "from tqdm.auto import tqdm\n",
    "import matplotlib.pyplot as plt\n",
    "from itertools import accumulate\n",
    "import matplotlib\n",
    "import pandas as pd\n",
    "import numpy as np\n",
    "import requests \n",
    "import ast"
   ]
  },
  {
   "cell_type": "markdown",
   "metadata": {},
   "source": [
    "## Price Data"
   ]
  },
  {
   "cell_type": "code",
   "execution_count": 12,
   "metadata": {},
   "outputs": [],
   "source": [
    "# Using binance to get data for now\n",
    "exchange = ccxt.binance({})"
   ]
  },
  {
   "cell_type": "code",
   "execution_count": 13,
   "metadata": {},
   "outputs": [],
   "source": [
    "# Get tickers for coins you want to buy\n",
    "btc = 'BTC/USDT'\n",
    "eth = 'ETH/USDT'\n",
    "# link = 'LINK/USDT'\n",
    "# sol = 'SOL/USDT'\n",
    "# ada = 'ADA/USDT'\n",
    "# dot = 'DOT/USDT'\n",
    "# luna = 'LUNA/USDT'\n",
    "# uni = 'UNI/USDT'\n",
    "# sushi = 'SUSHI/USDT'\n",
    "# ftt = 'FTT/USDT'\n",
    "\n",
    "all_tickers = {'btc':{'ticker':btc}, \n",
    "               'eth':{'ticker':eth}, \n",
    "#               'link':{'ticker':link}, \n",
    "#                'sol':{'ticker':sol}, \n",
    "#                'ada':{'ticker':ada}, \n",
    "#                'dot':{'ticker':dot}, \n",
    "#               'luna':{'ticker':luna}, \n",
    "#                'uni':{'ticker':uni}, \n",
    "#              'sushi':{'ticker':sushi}, \n",
    "#                'ftt':{'ticker':ftt}, \n",
    "              }\n",
    "\n",
    "# Get historical data\n",
    "start_date = datetime.now() - timedelta(days=365*4)\n",
    "start_timestamp = round(start_date.timestamp() * 1000)"
   ]
  },
  {
   "cell_type": "code",
   "execution_count": 14,
   "metadata": {},
   "outputs": [],
   "source": [
    "# Functions to help with the data\n",
    "# Convert data from binance to pandas df\n",
    "def convert_pandas(data):\n",
    "    header = ['timestamp', 'open', 'high', 'low', 'close', 'volume']\n",
    "    df = pd.DataFrame(data, columns=header).set_index('timestamp')\n",
    "    df.index = df.index.map(lambda x : datetime.fromtimestamp(round(x/1000)))\n",
    "    return df\n",
    "\n",
    "# Convert a datetime to the local timezone\n",
    "def convert_timezone(dt,from_tz=pytz.timezone('UTC'),to_tz=pytz.timezone('Europe/London')):\n",
    "    utc_dt = dt.replace(tzinfo=from_tz)\n",
    "    return utc_dt.astimezone(to_tz)\n",
    "\n",
    "# Get the data from a ticker since it's earliest interval to present\n",
    "def fetch_data(ticker, since, until=datetime.now(), interval='1d'):\n",
    "    \n",
    "    week_data = exchange.fetch_ohlcv(ticker,'1w')\n",
    "    since = max(since,week_data[0][0])\n",
    "    data = exchange.fetch_ohlcv(ticker, interval, since=since)\n",
    "    \n",
    "    while data and datetime.fromtimestamp(data[-1][0]/1000) < until - timedelta(days=1):\n",
    "        data += exchange.fetch_ohlcv(ticker, interval, since=data[-1][0])[1:]\n",
    "        \n",
    "    return data  "
   ]
  },
  {
   "cell_type": "code",
   "execution_count": 15,
   "metadata": {},
   "outputs": [],
   "source": [
    "# Fetch the ticker data, convert it to pandas and store DFs in d dictionary\n",
    "for k,v in all_tickers.items():\n",
    "    all_tickers[k]['data'] = fetch_data(v['ticker'], start_timestamp)    \n",
    "    all_tickers[k]['df'] = convert_pandas(all_tickers[k]['data'])"
   ]
  },
  {
   "cell_type": "code",
   "execution_count": 16,
   "metadata": {},
   "outputs": [],
   "source": [
    "# Get all the data in one DataFrame\n",
    "data_df = pd.DataFrame()\n",
    "for coin in all_tickers:\n",
    "    temp_df = all_tickers[coin]['df']\n",
    "    temp_df['ticker'] = coin\n",
    "    data_df = data_df.append(temp_df)"
   ]
  },
  {
   "cell_type": "code",
   "execution_count": 17,
   "metadata": {
    "scrolled": false
   },
   "outputs": [
    {
     "data": {
      "text/html": [
       "<div>\n",
       "<style scoped>\n",
       "    .dataframe tbody tr th:only-of-type {\n",
       "        vertical-align: middle;\n",
       "    }\n",
       "\n",
       "    .dataframe tbody tr th {\n",
       "        vertical-align: top;\n",
       "    }\n",
       "\n",
       "    .dataframe thead th {\n",
       "        text-align: right;\n",
       "    }\n",
       "</style>\n",
       "<table border=\"1\" class=\"dataframe\">\n",
       "  <thead>\n",
       "    <tr style=\"text-align: right;\">\n",
       "      <th></th>\n",
       "      <th>open</th>\n",
       "      <th>high</th>\n",
       "      <th>low</th>\n",
       "      <th>close</th>\n",
       "      <th>volume</th>\n",
       "      <th>ticker</th>\n",
       "    </tr>\n",
       "    <tr>\n",
       "      <th>timestamp</th>\n",
       "      <th></th>\n",
       "      <th></th>\n",
       "      <th></th>\n",
       "      <th></th>\n",
       "      <th></th>\n",
       "      <th></th>\n",
       "    </tr>\n",
       "  </thead>\n",
       "  <tbody>\n",
       "    <tr>\n",
       "      <th>2017-09-30 20:00:00</th>\n",
       "      <td>4378.49</td>\n",
       "      <td>4406.52</td>\n",
       "      <td>4240.04</td>\n",
       "      <td>4378.48</td>\n",
       "      <td>726.963685</td>\n",
       "      <td>btc</td>\n",
       "    </tr>\n",
       "    <tr>\n",
       "      <th>2017-10-01 20:00:00</th>\n",
       "      <td>4400.00</td>\n",
       "      <td>4561.63</td>\n",
       "      <td>4360.00</td>\n",
       "      <td>4380.00</td>\n",
       "      <td>655.756974</td>\n",
       "      <td>btc</td>\n",
       "    </tr>\n",
       "    <tr>\n",
       "      <th>2017-10-02 20:00:00</th>\n",
       "      <td>4380.00</td>\n",
       "      <td>4467.33</td>\n",
       "      <td>4180.80</td>\n",
       "      <td>4310.00</td>\n",
       "      <td>1082.323563</td>\n",
       "      <td>btc</td>\n",
       "    </tr>\n",
       "    <tr>\n",
       "      <th>2017-10-03 20:00:00</th>\n",
       "      <td>4314.90</td>\n",
       "      <td>4373.00</td>\n",
       "      <td>4142.00</td>\n",
       "      <td>4208.59</td>\n",
       "      <td>868.465101</td>\n",
       "      <td>btc</td>\n",
       "    </tr>\n",
       "    <tr>\n",
       "      <th>2017-10-04 20:00:00</th>\n",
       "      <td>4208.59</td>\n",
       "      <td>4355.00</td>\n",
       "      <td>4110.00</td>\n",
       "      <td>4292.43</td>\n",
       "      <td>779.138638</td>\n",
       "      <td>btc</td>\n",
       "    </tr>\n",
       "    <tr>\n",
       "      <th>...</th>\n",
       "      <td>...</td>\n",
       "      <td>...</td>\n",
       "      <td>...</td>\n",
       "      <td>...</td>\n",
       "      <td>...</td>\n",
       "      <td>...</td>\n",
       "    </tr>\n",
       "    <tr>\n",
       "      <th>2021-09-24 20:00:00</th>\n",
       "      <td>2928.22</td>\n",
       "      <td>2967.52</td>\n",
       "      <td>2801.57</td>\n",
       "      <td>2921.73</td>\n",
       "      <td>491974.022600</td>\n",
       "      <td>eth</td>\n",
       "    </tr>\n",
       "    <tr>\n",
       "      <th>2021-09-25 20:00:00</th>\n",
       "      <td>2921.84</td>\n",
       "      <td>3115.51</td>\n",
       "      <td>2738.17</td>\n",
       "      <td>3059.37</td>\n",
       "      <td>703594.478000</td>\n",
       "      <td>eth</td>\n",
       "    </tr>\n",
       "    <tr>\n",
       "      <th>2021-09-26 20:00:00</th>\n",
       "      <td>3059.36</td>\n",
       "      <td>3164.94</td>\n",
       "      <td>2922.71</td>\n",
       "      <td>2925.59</td>\n",
       "      <td>510130.731900</td>\n",
       "      <td>eth</td>\n",
       "    </tr>\n",
       "    <tr>\n",
       "      <th>2021-09-27 20:00:00</th>\n",
       "      <td>2924.76</td>\n",
       "      <td>2970.82</td>\n",
       "      <td>2789.00</td>\n",
       "      <td>2804.91</td>\n",
       "      <td>511325.464300</td>\n",
       "      <td>eth</td>\n",
       "    </tr>\n",
       "    <tr>\n",
       "      <th>2021-09-28 20:00:00</th>\n",
       "      <td>2805.15</td>\n",
       "      <td>2950.00</td>\n",
       "      <td>2782.00</td>\n",
       "      <td>2840.60</td>\n",
       "      <td>403257.056700</td>\n",
       "      <td>eth</td>\n",
       "    </tr>\n",
       "  </tbody>\n",
       "</table>\n",
       "<p>2920 rows × 6 columns</p>\n",
       "</div>"
      ],
      "text/plain": [
       "                        open     high      low    close         volume ticker\n",
       "timestamp                                                                    \n",
       "2017-09-30 20:00:00  4378.49  4406.52  4240.04  4378.48     726.963685    btc\n",
       "2017-10-01 20:00:00  4400.00  4561.63  4360.00  4380.00     655.756974    btc\n",
       "2017-10-02 20:00:00  4380.00  4467.33  4180.80  4310.00    1082.323563    btc\n",
       "2017-10-03 20:00:00  4314.90  4373.00  4142.00  4208.59     868.465101    btc\n",
       "2017-10-04 20:00:00  4208.59  4355.00  4110.00  4292.43     779.138638    btc\n",
       "...                      ...      ...      ...      ...            ...    ...\n",
       "2021-09-24 20:00:00  2928.22  2967.52  2801.57  2921.73  491974.022600    eth\n",
       "2021-09-25 20:00:00  2921.84  3115.51  2738.17  3059.37  703594.478000    eth\n",
       "2021-09-26 20:00:00  3059.36  3164.94  2922.71  2925.59  510130.731900    eth\n",
       "2021-09-27 20:00:00  2924.76  2970.82  2789.00  2804.91  511325.464300    eth\n",
       "2021-09-28 20:00:00  2805.15  2950.00  2782.00  2840.60  403257.056700    eth\n",
       "\n",
       "[2920 rows x 6 columns]"
      ]
     },
     "execution_count": 17,
     "metadata": {},
     "output_type": "execute_result"
    }
   ],
   "source": [
    "data_df"
   ]
  },
  {
   "cell_type": "code",
   "execution_count": 18,
   "metadata": {},
   "outputs": [
    {
     "data": {
      "image/png": "[encoded data removed]",
      "text/plain": [
       "<Figure size 1008x216 with 2 Axes>"
      ]
     },
     "metadata": {
      "needs_background": "light"
     },
     "output_type": "display_data"
    },
    {
     "data": {
      "image/png": "[encoded data removed]",
      "text/plain": [
       "<Figure size 1296x216 with 2 Axes>"
      ]
     },
     "metadata": {
      "needs_background": "light"
     },
     "output_type": "display_data"
    }
   ],
   "source": [
    "# Plot the charts for the coins to dca\n",
    "\n",
    "fig, ax = plt.subplots(len(all_tickers)//2,2, figsize=(14,3))\n",
    "for i, ticker in enumerate(all_tickers):\n",
    "    row, col = i//2, i%2\n",
    "    ax = ax[row,:] if len(all_tickers) > 2 else ax[:]\n",
    "    ax[col].plot(data_df[data_df.ticker == ticker].close)\n",
    "    ax[col].set_title(ticker.upper())\n",
    "    ax[ col].grid()\n",
    "    \n",
    "    every_nth = 2\n",
    "    for n, label in enumerate(ax[col].xaxis.get_ticklabels()):\n",
    "        if n % every_nth != 0:\n",
    "            label.set_visible(False)\n",
    "\n",
    "fig.tight_layout()\n",
    "plt.show()\n",
    "\n",
    "\n",
    "# Plotting the price of the coins on the same axis\n",
    "# Scale the df so we can look at the charts together\n",
    "scaled_df = data_df\n",
    "scaled_df['avg'] = data_df.groupby('ticker')['close'].transform('mean')\n",
    "scaled_df['scaled'] = scaled_df.close / scaled_df.avg\n",
    "\n",
    "# Plot on same axes\n",
    "fig, ax = plt.subplots(1,2,figsize=(18,3))\n",
    "\n",
    "scaled_df.groupby('ticker')['scaled'].plot(legend=True, linewidth=0.8, ax=ax[0])\n",
    "scaled_df.groupby('ticker')['scaled'].plot(legend=True, logy=True, linewidth=0.8, ax=ax[1])\n",
    "\n",
    "ax[0].set_title('Reg Price chart of DCA coins')\n",
    "ax[1].set_title('Log Price chart of DCA coins')\n",
    "ax[0].grid()\n",
    "ax[1].grid()\n",
    "ax[0].set_xlabel('Date')\n",
    "ax[1].set_xlabel('Date')\n",
    "ax[0].set_ylabel('Relative scale')\n",
    "ax[1].set_ylabel('Relative scale')\n",
    "plt.show()"
   ]
  },
  {
   "cell_type": "markdown",
   "metadata": {},
   "source": [
    "## Fear and Greed index"
   ]
  },
  {
   "cell_type": "code",
   "execution_count": 19,
   "metadata": {},
   "outputs": [],
   "source": [
    "# Pull Fear and Greed daily Data (Returned much quicker on repeat, check and test headers)\n",
    "endpoint = 'https://api.alternative.me/fng/?limit=3000&format=json&date_format=uk'\n",
    "fg_data =  requests.get(endpoint).json()"
   ]
  },
  {
   "cell_type": "code",
   "execution_count": 20,
   "metadata": {},
   "outputs": [
    {
     "data": {
      "text/plain": [
       "{'value': '24',\n",
       " 'value_classification': 'Extreme Fear',\n",
       " 'timestamp': '29-09-2021',\n",
       " 'time_until_update': '-1632870697'}"
      ]
     },
     "execution_count": 20,
     "metadata": {},
     "output_type": "execute_result"
    }
   ],
   "source": [
    "# Individual value for fear and greed\n",
    "endpoint_individual = 'https://api.alternative.me/fng/?format=json&date_format=uk'\n",
    "fg_data_individual = requests.get(endpoint_individual).json()\n",
    "fg_data_individual['data'][0]"
   ]
  },
  {
   "cell_type": "code",
   "execution_count": 21,
   "metadata": {},
   "outputs": [],
   "source": [
    "# Convert fear and greed data to df\n",
    "fg_values = pd.DataFrame()\n",
    "fg_values['fear_greed'] = [int(x['value']) for x in fg_data['data']]\n",
    "fg_values.index = [x['timestamp'] for x in fg_data['data']]\n",
    "fg_values.index = pd.to_datetime(fg_values.index, dayfirst=True)"
   ]
  },
  {
   "cell_type": "code",
   "execution_count": 22,
   "metadata": {},
   "outputs": [
    {
     "name": "stdout",
     "output_type": "stream",
     "text": [
      "Mean fear and greed: 45.91\n"
     ]
    },
    {
     "data": {
      "text/html": [
       "<div>\n",
       "<style scoped>\n",
       "    .dataframe tbody tr th:only-of-type {\n",
       "        vertical-align: middle;\n",
       "    }\n",
       "\n",
       "    .dataframe tbody tr th {\n",
       "        vertical-align: top;\n",
       "    }\n",
       "\n",
       "    .dataframe thead th {\n",
       "        text-align: right;\n",
       "    }\n",
       "</style>\n",
       "<table border=\"1\" class=\"dataframe\">\n",
       "  <thead>\n",
       "    <tr style=\"text-align: right;\">\n",
       "      <th></th>\n",
       "      <th>open</th>\n",
       "      <th>high</th>\n",
       "      <th>low</th>\n",
       "      <th>close</th>\n",
       "      <th>volume</th>\n",
       "      <th>ticker</th>\n",
       "      <th>avg</th>\n",
       "      <th>scaled</th>\n",
       "      <th>fear_greed</th>\n",
       "    </tr>\n",
       "  </thead>\n",
       "  <tbody>\n",
       "    <tr>\n",
       "      <th>2017-09-30</th>\n",
       "      <td>4378.49</td>\n",
       "      <td>4406.52</td>\n",
       "      <td>4240.04</td>\n",
       "      <td>4378.48</td>\n",
       "      <td>726.963685</td>\n",
       "      <td>btc</td>\n",
       "      <td>15396.112610</td>\n",
       "      <td>0.284389</td>\n",
       "      <td>NaN</td>\n",
       "    </tr>\n",
       "    <tr>\n",
       "      <th>2017-09-30</th>\n",
       "      <td>305.13</td>\n",
       "      <td>306.00</td>\n",
       "      <td>294.00</td>\n",
       "      <td>303.95</td>\n",
       "      <td>5060.057580</td>\n",
       "      <td>eth</td>\n",
       "      <td>703.499918</td>\n",
       "      <td>0.432054</td>\n",
       "      <td>NaN</td>\n",
       "    </tr>\n",
       "    <tr>\n",
       "      <th>2017-10-01</th>\n",
       "      <td>4400.00</td>\n",
       "      <td>4561.63</td>\n",
       "      <td>4360.00</td>\n",
       "      <td>4380.00</td>\n",
       "      <td>655.756974</td>\n",
       "      <td>btc</td>\n",
       "      <td>15396.112610</td>\n",
       "      <td>0.284487</td>\n",
       "      <td>NaN</td>\n",
       "    </tr>\n",
       "    <tr>\n",
       "      <th>2017-10-01</th>\n",
       "      <td>303.94</td>\n",
       "      <td>305.00</td>\n",
       "      <td>295.00</td>\n",
       "      <td>296.50</td>\n",
       "      <td>3710.837470</td>\n",
       "      <td>eth</td>\n",
       "      <td>703.499918</td>\n",
       "      <td>0.421464</td>\n",
       "      <td>NaN</td>\n",
       "    </tr>\n",
       "    <tr>\n",
       "      <th>2017-10-02</th>\n",
       "      <td>4380.00</td>\n",
       "      <td>4467.33</td>\n",
       "      <td>4180.80</td>\n",
       "      <td>4310.00</td>\n",
       "      <td>1082.323563</td>\n",
       "      <td>btc</td>\n",
       "      <td>15396.112610</td>\n",
       "      <td>0.279941</td>\n",
       "      <td>NaN</td>\n",
       "    </tr>\n",
       "    <tr>\n",
       "      <th>...</th>\n",
       "      <td>...</td>\n",
       "      <td>...</td>\n",
       "      <td>...</td>\n",
       "      <td>...</td>\n",
       "      <td>...</td>\n",
       "      <td>...</td>\n",
       "      <td>...</td>\n",
       "      <td>...</td>\n",
       "      <td>...</td>\n",
       "    </tr>\n",
       "    <tr>\n",
       "      <th>2021-09-26</th>\n",
       "      <td>3059.36</td>\n",
       "      <td>3164.94</td>\n",
       "      <td>2922.71</td>\n",
       "      <td>2925.59</td>\n",
       "      <td>510130.731900</td>\n",
       "      <td>eth</td>\n",
       "      <td>703.499918</td>\n",
       "      <td>4.158622</td>\n",
       "      <td>27.0</td>\n",
       "    </tr>\n",
       "    <tr>\n",
       "      <th>2021-09-27</th>\n",
       "      <td>42147.35</td>\n",
       "      <td>42787.38</td>\n",
       "      <td>40888.00</td>\n",
       "      <td>41026.54</td>\n",
       "      <td>43372.262400</td>\n",
       "      <td>btc</td>\n",
       "      <td>15396.112610</td>\n",
       "      <td>2.664734</td>\n",
       "      <td>26.0</td>\n",
       "    </tr>\n",
       "    <tr>\n",
       "      <th>2021-09-27</th>\n",
       "      <td>2924.76</td>\n",
       "      <td>2970.82</td>\n",
       "      <td>2789.00</td>\n",
       "      <td>2804.91</td>\n",
       "      <td>511325.464300</td>\n",
       "      <td>eth</td>\n",
       "      <td>703.499918</td>\n",
       "      <td>3.987079</td>\n",
       "      <td>26.0</td>\n",
       "    </tr>\n",
       "    <tr>\n",
       "      <th>2021-09-28</th>\n",
       "      <td>41025.01</td>\n",
       "      <td>42590.00</td>\n",
       "      <td>40753.88</td>\n",
       "      <td>41392.75</td>\n",
       "      <td>32845.172990</td>\n",
       "      <td>btc</td>\n",
       "      <td>15396.112610</td>\n",
       "      <td>2.688520</td>\n",
       "      <td>25.0</td>\n",
       "    </tr>\n",
       "    <tr>\n",
       "      <th>2021-09-28</th>\n",
       "      <td>2805.15</td>\n",
       "      <td>2950.00</td>\n",
       "      <td>2782.00</td>\n",
       "      <td>2840.60</td>\n",
       "      <td>403257.056700</td>\n",
       "      <td>eth</td>\n",
       "      <td>703.499918</td>\n",
       "      <td>4.037811</td>\n",
       "      <td>25.0</td>\n",
       "    </tr>\n",
       "  </tbody>\n",
       "</table>\n",
       "<p>2920 rows × 9 columns</p>\n",
       "</div>"
      ],
      "text/plain": [
       "                open      high       low     close         volume ticker  \\\n",
       "2017-09-30   4378.49   4406.52   4240.04   4378.48     726.963685    btc   \n",
       "2017-09-30    305.13    306.00    294.00    303.95    5060.057580    eth   \n",
       "2017-10-01   4400.00   4561.63   4360.00   4380.00     655.756974    btc   \n",
       "2017-10-01    303.94    305.00    295.00    296.50    3710.837470    eth   \n",
       "2017-10-02   4380.00   4467.33   4180.80   4310.00    1082.323563    btc   \n",
       "...              ...       ...       ...       ...            ...    ...   \n",
       "2021-09-26   3059.36   3164.94   2922.71   2925.59  510130.731900    eth   \n",
       "2021-09-27  42147.35  42787.38  40888.00  41026.54   43372.262400    btc   \n",
       "2021-09-27   2924.76   2970.82   2789.00   2804.91  511325.464300    eth   \n",
       "2021-09-28  41025.01  42590.00  40753.88  41392.75   32845.172990    btc   \n",
       "2021-09-28   2805.15   2950.00   2782.00   2840.60  403257.056700    eth   \n",
       "\n",
       "                     avg    scaled  fear_greed  \n",
       "2017-09-30  15396.112610  0.284389         NaN  \n",
       "2017-09-30    703.499918  0.432054         NaN  \n",
       "2017-10-01  15396.112610  0.284487         NaN  \n",
       "2017-10-01    703.499918  0.421464         NaN  \n",
       "2017-10-02  15396.112610  0.279941         NaN  \n",
       "...                  ...       ...         ...  \n",
       "2021-09-26    703.499918  4.158622        27.0  \n",
       "2021-09-27  15396.112610  2.664734        26.0  \n",
       "2021-09-27    703.499918  3.987079        26.0  \n",
       "2021-09-28  15396.112610  2.688520        25.0  \n",
       "2021-09-28    703.499918  4.037811        25.0  \n",
       "\n",
       "[2920 rows x 9 columns]"
      ]
     },
     "execution_count": 22,
     "metadata": {},
     "output_type": "execute_result"
    }
   ],
   "source": [
    "# Scale fear and greed and BTC price for same axes\n",
    "\n",
    "scaled_df_date = scaled_df.copy()\n",
    "scaled_df_date.index = scaled_df_date.index.date\n",
    "fg_df = scaled_df_date.join(fg_values)\n",
    "# fg_df = fg_df[(fg_df.index >= fg_df.dropna().index[0])]\n",
    "print('Mean fear and greed: %.2f' % fg_df.mean().fear_greed)\n",
    "fg_df"
   ]
  },
  {
   "cell_type": "code",
   "execution_count": 23,
   "metadata": {},
   "outputs": [
    {
     "data": {
      "image/png": "[encoded data removed]",
      "text/plain": [
       "<Figure size 936x360 with 2 Axes>"
      ]
     },
     "metadata": {
      "needs_background": "light"
     },
     "output_type": "display_data"
    }
   ],
   "source": [
    "# Plot 100 - fear and greed vs BTC price over time\n",
    "\n",
    "# Using a rolling mean of 7 to smooth the data\n",
    "rolling_mean = 3\n",
    "# rolling_mean = 7\n",
    "fig,ax = plt.subplots(figsize=(13,5))\n",
    "\n",
    "ax.plot(fg_df.ffill()[fg_df.ticker=='btc'].index, 100-fg_df.ffill()[fg_df.ticker=='btc'].fear_greed.rolling(window=rolling_mean).mean(), color=\"red\", linewidth=0.7)\n",
    "\n",
    "ax.set_xlabel(\"Date\",fontsize=14), \n",
    "ax.set_yticks([0,25,50,75,100])\n",
    "ax.set_ylabel(\"100 - Fear and Greed Index\", color=\"red\", fontsize=14)\n",
    "\n",
    "ax2 = ax.twinx()\n",
    "ax2.plot(fg_df[fg_df.ticker=='btc'].index, fg_df[fg_df.ticker=='btc'].close, color=\"blue\", linewidth=0.7)\n",
    "ax2.set_yscale('log')\n",
    "ax2.set_yticks([5000, 10000, 20000, 50000, 100000])\n",
    "ax2.get_yaxis().set_major_formatter(matplotlib.ticker.ScalarFormatter())\n",
    "ax2.set_ylabel(\"BTC Price (log)\", color=\"blue\", fontsize=14)\n",
    "\n",
    "ax2.grid()\n",
    "ax.grid()\n",
    "\n",
    "plt.title('Fear and greed - BUY THE DIP')\n",
    "plt.savefig('fg_btc.png')\n",
    "plt.show()"
   ]
  },
  {
   "cell_type": "code",
   "execution_count": 24,
   "metadata": {},
   "outputs": [],
   "source": [
    "# DCA which gives you the total amount invested over a time period and the average price you would have got\n",
    "class DCA:\n",
    "    def __init__(self, total, df, since=datetime.now() - timedelta(days=365*3.3)):\n",
    "        self.total = total\n",
    "        self.since=since\n",
    "        self.df = df\n",
    "    \n",
    "    # Run the dca strategy with the parameters entered\n",
    "    def get_average(self, dollar_amount, freq, ticker, weighting=None):\n",
    "        ret_df, prices, volumes, dates, spent, break_flag = pd.DataFrame(), [], [], [], 0, False\n",
    "        \n",
    "        # Loop over every row\n",
    "        weight = 1\n",
    "        for i, row in enumerate(self.df[self.df.index > self.since].iterrows()):\n",
    "            \n",
    "            if weighting:\n",
    "                weight = row[1][weighting]\n",
    "            \n",
    "            if spent >= self.total:\n",
    "                ret_df = ret_df.append(pd.DataFrame([[row[0],row[1].open,weight,0,spent,0,0,sum(volumes)]],\n",
    "                    columns=['date','price','weight','dollar_spend','dollar_spend_tot','dollar_left','crypto_vol','crypto_tot']))\n",
    "                \n",
    "            elif i % freq == 0:\n",
    "                dates.append(row[0])\n",
    "                \n",
    "                # Calculate the last amount to if the total amount to spend has run out\n",
    "                if spent + dollar_amount * weight >= self.total:\n",
    "                    \n",
    "                    leftover_dollar = self.total - spent\n",
    "                    crypto_vol = leftover_dollar / row[1].open\n",
    "                    volumes.append(crypto_vol)\n",
    "                    prices.append(row[1].open)\n",
    "                    spent += leftover_dollar\n",
    "                    \n",
    "                    ret_df = ret_df.append(pd.DataFrame([[row[0],row[1].open,weight,leftover_dollar,spent,0,crypto_vol,sum(volumes)]],\n",
    "                    columns=['date','price','weight','dollar_spend','dollar_spend_tot','dollar_left','crypto_vol','crypto_tot']))\n",
    "                    continue\n",
    "                    \n",
    "                \n",
    "                crypto_vol = dollar_amount * weight / row[1].open\n",
    "                dollar_spend = dollar_amount * weight\n",
    "                \n",
    "                volumes.append(crypto_vol)\n",
    "                prices.append(row[1].open)\n",
    "                spent += dollar_spend\n",
    "                \n",
    "                ret_df = ret_df.append(pd.DataFrame([[row[0],row[1].open,weight,dollar_spend,spent,self.total-spent,crypto_vol,sum(volumes)]],\n",
    "                    columns=['date','price','weight','dollar_spend','dollar_spend_tot','dollar_left','crypto_vol','crypto_tot']))\n",
    "\n",
    "        return volumes, spent, prices, dates, ret_df.set_index('date')\n",
    "            \n",
    "    def get_length(self):\n",
    "        pass"
   ]
  },
  {
   "cell_type": "markdown",
   "metadata": {},
   "source": [
    "## Different weighting functions"
   ]
  },
  {
   "cell_type": "code",
   "execution_count": 25,
   "metadata": {},
   "outputs": [
    {
     "data": {
      "text/plain": [
       "45.912228057014254"
      ]
     },
     "execution_count": 25,
     "metadata": {},
     "output_type": "execute_result"
    }
   ],
   "source": [
    "fg_df.mean().fear_greed"
   ]
  },
  {
   "cell_type": "code",
   "execution_count": 26,
   "metadata": {},
   "outputs": [],
   "source": [
    "fg_w_df = fg_df.copy()"
   ]
  },
  {
   "cell_type": "code",
   "execution_count": 27,
   "metadata": {
    "scrolled": false
   },
   "outputs": [],
   "source": [
    "# Create a values between 0-100 to use to weight the fear and greed\n",
    "\n",
    "line = np.linspace(0,100,101)\n",
    "weight_df = pd.DataFrame(line, columns=['line'])\n",
    "weight_df.sort_values('line', ascending=False).reset_index(inplace=True)"
   ]
  },
  {
   "cell_type": "code",
   "execution_count": 28,
   "metadata": {},
   "outputs": [],
   "source": [
    "# Applies weighting to a df to plot it out\n",
    "def apply_weighting(weight_df, weight_dict, xlabel, replace=False, plot=True, cols=4):\n",
    "    \n",
    "    fig, ax = plt.subplots(len(weight_dict)//cols+(1 if len(weight_dict)%cols else 0), cols, figsize=(14,(len(weight_dict)+1)//2+1))\n",
    "    \n",
    "    df = weight_df.copy()\n",
    "    for i, (weight_name, function) in enumerate(weight_dict.items()):\n",
    "        \n",
    "        row, col = i//cols, i%cols\n",
    "        if len(weight_dict) > 1:\n",
    "            ax0 = ax[row]\n",
    "        else:\n",
    "            ax0 = ax\n",
    "        \n",
    "        if weight_name in df.columns and not replace:\n",
    "            print('Weighting for %s already in df' % weight_name)\n",
    "            continue\n",
    "\n",
    "        df[weight_name] = df.line.apply(function)\n",
    "        \n",
    "        ax0[col].plot(df[weight_name])\n",
    "        ax0[col].set_xlabel(xlabel)\n",
    "        ax0[col].grid()\n",
    "        ax0[col].set_ylabel('Relative Weight')\n",
    "        ax0[col].set_title(weight_name)\n",
    "        ax0[col].set_ylim((-0.1,2.1))\n",
    "        \n",
    "    plt.tight_layout()\n",
    "    plt.show()\n",
    "    \n",
    "    return df"
   ]
  },
  {
   "cell_type": "code",
   "execution_count": 29,
   "metadata": {},
   "outputs": [],
   "source": [
    "# Testing functions to apply to the fear and greed index to calculate a buy value\n",
    "weight_dict = {}\n",
    "weight_name = 'Constant'\n",
    "weight_dict[weight_name] = constant = lambda x : 1\n",
    "weight_name = 'Linear'\n",
    "weight_dict[weight_name] = linear_weight = lambda x : 2*(100-x)/100\n",
    "weight_name = 'Shallow'\n",
    "weight_dict[weight_name] = shallow_weight = lambda x : 1.5*(150-x)/150\n",
    "weight_name = 'Aggressive'\n",
    "weight_dict[weight_name] = agg_weight = lambda x : max(min(3*(100-x) / 100-0.5, 2), 0)\n",
    "weight_name = 'V_aggressive'\n",
    "weight_dict[weight_name] = agg_weight = lambda x : max(min(5*(100-x) / 100-1.5, 2), 0)\n",
    "weight_name = 'Vv_aggressive'\n",
    "weight_dict[weight_name] = agg_weight = lambda x : max(min(8*(100-x) / 100-3, 2), 0)\n",
    "weight_name = 'Hinge'\n",
    "weight_dict[weight_name] = hinge = lambda x : max(2*(100-x)/100, 0.5)\n",
    "weight_name = 'Logistic'\n",
    "weight_dict[weight_name] = agg_weight = lambda x : - 2 / (1 + np.exp(-0.1*(x-50))) + 2\n",
    "weight_name = 'Logistic_steep'\n",
    "weight_dict[weight_name] = agg_weight = lambda x : -2/(1+np.exp(-0.17*(x-50)))+2"
   ]
  },
  {
   "cell_type": "code",
   "execution_count": 30,
   "metadata": {
    "scrolled": false
   },
   "outputs": [
    {
     "data": {
      "image/png": "[encoded data removed]",
      "text/plain": [
       "<Figure size 1008x432 with 12 Axes>"
      ]
     },
     "metadata": {
      "needs_background": "light"
     },
     "output_type": "display_data"
    }
   ],
   "source": [
    "new_weight_df = apply_weighting(weight_df, weight_dict, 'Fear and Greed Index')"
   ]
  },
  {
   "cell_type": "code",
   "execution_count": 31,
   "metadata": {},
   "outputs": [],
   "source": [
    "for weight_name, weight_func in weight_dict.items():\n",
    "    fg_w_df['fg_%s' % (weight_name)] =  fg_w_df.fear_greed.apply(weight_func)"
   ]
  },
  {
   "cell_type": "markdown",
   "metadata": {},
   "source": [
    "## Testing and plotting"
   ]
  },
  {
   "cell_type": "code",
   "execution_count": 32,
   "metadata": {
    "scrolled": false
   },
   "outputs": [],
   "source": [
    "\"\"\"\n",
    "Paramters for the DCA:\n",
    "- amount:     Total amount to invest (cannot be exceeded but does not have to be spent)\n",
    "- freq_d:     Time between buys (days e.g 7 would be 1 buy a week) \n",
    "- dollar:     $ Value to buy (when weigting = 1)\n",
    "- since:      Date of first DCA investment\n",
    "\"\"\"\n",
    "params = {\n",
    "          'amount':   10000,\n",
    "          'freq_d':   7,\n",
    "          'dollar':   100,\n",
    "          'since': datetime.now()-timedelta(days=365*3.3)  \n",
    "         }"
   ]
  },
  {
   "cell_type": "code",
   "execution_count": 33,
   "metadata": {
    "scrolled": false
   },
   "outputs": [],
   "source": [
    "\"\"\"\n",
    "Runs dcas and returns a DCA df with the performance of the different strategies\n",
    "\"\"\"\n",
    "def run_dcas(fg_w_df, params, weight_dict, ticker='btc', plot=False, print_dca=True):\n",
    "\n",
    "    print('%s Since: %s\\n' % (ticker.upper(), params['since'].strftime('%d %b %Y')))\n",
    "    this_df = fg_w_df[fg_w_df.ticker==ticker]\n",
    "\n",
    "    my_dca = DCA(params['amount'], this_df, since=params['since'])\n",
    "\n",
    "    backtest_df = pd.DataFrame()\n",
    "\n",
    "    # Calculating the bought volume for the each\n",
    "    for weight_name in weight_dict:\n",
    "        vols, spent, prices, dates, ret_df = my_dca.get_average(params['dollar'], params['freq_d'], ticker, weighting='fg_%s'%(weight_name))\n",
    "        ret_df['portfolio_value'] = ret_df.crypto_tot * ret_df.price + ret_df.dollar_left\n",
    "        ret_df['weighting'] = weight_name\n",
    "        backtest_df = backtest_df.append(ret_df)\n",
    "\n",
    "        # Optional plotting\n",
    "        if plot:\n",
    "            fig, ax = plt.subplots(1,2,figsize=(15,3))\n",
    "\n",
    "            ax1 = ax[0]\n",
    "            ax2 = ax[0].twinx()\n",
    "            ax3 = ax[1]\n",
    "            ax4 = ax[1].twinx()\n",
    "            ax5 = ax[1].twinx()\n",
    "\n",
    "            ax1.plot(dates,fg_w_df[fg_w_df.ticker==ticker].loc[dates].close, color='orange',label=ticker)\n",
    "            ax2.plot(dates, fg_w_df[fg_w_df.ticker==ticker].loc[dates].fear_greed, color='r', label='Fear and Greed')\n",
    "\n",
    "            ax3.plot(dates, list(accumulate(vols)), color='b', label=ticker+' accumulated')\n",
    "        #     ax5.plot(dates, list(accumulate(vols), color='r', label='Portfolio Value ($)')\n",
    "            ax4.plot(dates, vols, color='g', label='Daily Vol')\n",
    "\n",
    "            ax1.set_yscale('log')\n",
    "            \n",
    "            ax1.legend(loc='lower right')\n",
    "            ax2.legend(loc='upper left')\n",
    "            ax3.legend(loc='upper right')\n",
    "            ax4.legend(loc='lower left')\n",
    "\n",
    "            plt.show()\n",
    "            \n",
    "        if print_dca:\n",
    "            print('%s DCA:    %.6f %s    $%.2f Leftover\\n' % (weight_name, sum(vols), ticker.upper(), params['amount']-spent))\n",
    "        \n",
    "    return backtest_df\n",
    "\n",
    "\n",
    "\"\"\"\n",
    "Plots dca methods with different weighting and stategies over time\n",
    "Gives the amount in $ of the crypto you would own\n",
    "\"\"\"\n",
    "def plot_dcas(backtest_df, title_str='DCA strategies over time'):\n",
    "    plt.figure(figsize=(13,7))\n",
    "    \n",
    "    total_weights = []\n",
    "    \n",
    "    for weight_name in backtest_df.weighting.unique():\n",
    "\n",
    "        sub_df = backtest_df[backtest_df.weighting==weight_name]\n",
    "        \n",
    "        finish_df = sub_df[sub_df.dollar_left <= 0]\n",
    "        if not finish_df.empty:\n",
    "            finish_row = finish_df.iloc[0]\n",
    "            plt.scatter([finish_row.name],[finish_row.portfolio_value], marker='^', s=[100], zorder=10)\n",
    "        else:\n",
    "            finish_row = sub_df.iloc[-1]\n",
    "        \n",
    "        label='$%.0f ~ %.0f%% invested - %s' % (sub_df.iloc[-1].portfolio_value, 100*(\n",
    "            1-sub_df.iloc[-1].dollar_left/(sub_df.iloc[-1].dollar_left+sub_df.iloc[-1].dollar_spend_tot)), weight_name)\n",
    "        line, = plt.plot(sub_df.index,sub_df.portfolio_value,label=label,linewidth=1)\n",
    "        total_weights.append([sub_df.iloc[-1].portfolio_value, line, weight_name])\n",
    "        \n",
    "    plt.title(title_str)\n",
    "    plt.yscale('log')\n",
    "    plt.grid()\n",
    "    labels = [i[1] for i in sorted(total_weights, key=lambda x : x[0], reverse=True)]\n",
    "\n",
    "    plt.legend(handles=labels)\n",
    "    plt.show()"
   ]
  },
  {
   "cell_type": "code",
   "execution_count": 34,
   "metadata": {
    "scrolled": false
   },
   "outputs": [
    {
     "ename": "NameError",
     "evalue": "name 'since_dates' is not defined",
     "output_type": "error",
     "traceback": [
      "\u001b[0;31m---------------------------------------------------------------------------\u001b[0m",
      "\u001b[0;31mNameError\u001b[0m                                 Traceback (most recent call last)",
      "\u001b[0;32m<ipython-input-34-1a15f52fc65d>\u001b[0m in \u001b[0;36m<module>\u001b[0;34m\u001b[0m\n\u001b[1;32m      2\u001b[0m \u001b[0;34m\u001b[0m\u001b[0m\n\u001b[1;32m      3\u001b[0m \u001b[0mssince_dates\u001b[0m \u001b[0;34m=\u001b[0m \u001b[0mpd\u001b[0m\u001b[0;34m.\u001b[0m\u001b[0mdate_range\u001b[0m\u001b[0;34m(\u001b[0m\u001b[0mstart\u001b[0m\u001b[0;34m=\u001b[0m\u001b[0mdatetime\u001b[0m\u001b[0;34m.\u001b[0m\u001b[0mnow\u001b[0m\u001b[0;34m(\u001b[0m\u001b[0;34m)\u001b[0m\u001b[0;34m-\u001b[0m\u001b[0mtimedelta\u001b[0m\u001b[0;34m(\u001b[0m\u001b[0mdays\u001b[0m\u001b[0;34m=\u001b[0m\u001b[0;36m365\u001b[0m\u001b[0;34m*\u001b[0m\u001b[0;36m3.3\u001b[0m\u001b[0;34m)\u001b[0m\u001b[0;34m,\u001b[0m \u001b[0mend\u001b[0m\u001b[0;34m=\u001b[0m\u001b[0mdatetime\u001b[0m\u001b[0;34m.\u001b[0m\u001b[0mnow\u001b[0m\u001b[0;34m(\u001b[0m\u001b[0;34m)\u001b[0m\u001b[0;34m-\u001b[0m\u001b[0mtimedelta\u001b[0m\u001b[0;34m(\u001b[0m\u001b[0mweeks\u001b[0m\u001b[0;34m=\u001b[0m\u001b[0;36m20\u001b[0m\u001b[0;34m)\u001b[0m\u001b[0;34m,\u001b[0m \u001b[0mperiods\u001b[0m\u001b[0;34m=\u001b[0m\u001b[0;36m5\u001b[0m\u001b[0;34m)\u001b[0m\u001b[0;34m\u001b[0m\u001b[0;34m\u001b[0m\u001b[0m\n\u001b[0;32m----> 4\u001b[0;31m \u001b[0;32mfor\u001b[0m \u001b[0msince\u001b[0m \u001b[0;32min\u001b[0m \u001b[0msince_dates\u001b[0m\u001b[0;34m:\u001b[0m\u001b[0;34m\u001b[0m\u001b[0;34m\u001b[0m\u001b[0m\n\u001b[0m\u001b[1;32m      5\u001b[0m     \u001b[0mparams\u001b[0m\u001b[0;34m[\u001b[0m\u001b[0;34m'since'\u001b[0m\u001b[0;34m]\u001b[0m \u001b[0;34m=\u001b[0m \u001b[0msince\u001b[0m\u001b[0;34m\u001b[0m\u001b[0;34m\u001b[0m\u001b[0m\n\u001b[1;32m      6\u001b[0m     \u001b[0mbacktest_df\u001b[0m \u001b[0;34m=\u001b[0m \u001b[0mrun_dcas\u001b[0m\u001b[0;34m(\u001b[0m\u001b[0mfg_w_df\u001b[0m\u001b[0;34m,\u001b[0m \u001b[0mparams\u001b[0m\u001b[0;34m,\u001b[0m \u001b[0mweight_dict\u001b[0m\u001b[0;34m,\u001b[0m \u001b[0mplot\u001b[0m\u001b[0;34m=\u001b[0m\u001b[0;32mFalse\u001b[0m\u001b[0;34m,\u001b[0m \u001b[0mprint_dca\u001b[0m\u001b[0;34m=\u001b[0m\u001b[0;32mFalse\u001b[0m\u001b[0;34m)\u001b[0m\u001b[0;34m\u001b[0m\u001b[0;34m\u001b[0m\u001b[0m\n",
      "\u001b[0;31mNameError\u001b[0m: name 'since_dates' is not defined"
     ]
    }
   ],
   "source": [
    "# Plot to show portfolio value over time with different fear and greed weighting schemes\n",
    "\n",
    "ssince_dates = pd.date_range(start=datetime.now()-timedelta(days=365*3.3), end=datetime.now()-timedelta(weeks=20), periods=5)\n",
    "for since in since_dates:\n",
    "    params['since'] = since\n",
    "    backtest_df = run_dcas(fg_w_df, params, weight_dict, plot=False, print_dca=False)\n",
    "    title_str = 'Buy %d USD every %dD up to %d USD Since: %s ' % (params['dollar'],params['freq_d'], params['amount'],\n",
    "                                                                            params['since'].strftime('%d %b %Y'))\n",
    "    plot_dcas(backtest_df, title_str)"
   ]
  },
  {
   "cell_type": "code",
   "execution_count": null,
   "metadata": {
    "scrolled": false
   },
   "outputs": [],
   "source": [
    "ticker = 'btc'\n",
    "\n",
    "print(ticker.upper(),'\\n')\n",
    "this_df = fg_w_df[fg_w_df.ticker==ticker]\n",
    "\n",
    "my_dca = DCA(params['amount'], this_df)\n",
    "\n",
    "vols, spent, prices, dates = my_dca.get_average(params['dollar'], params['freq_d'], ticker)\n",
    "print('Regular DCA:    %.6f %s   $%.2f Leftover\\n' % (sum(vols), ticker.upper(), params['amount']-spent))\n",
    "\n",
    "# Calculating the bought volume for the each\n",
    "for weight_name in weight_dict:\n",
    "    vols, spent, prices, dates = my_dca.get_average(params['dollar'], params['freq_d'], ticker, weighting='fg_%s'%(weight_name))\n",
    "    \n",
    "    fig, ax1 = plt.subplots(figsize=(13,5))\n",
    "\n",
    "    ax2 = ax1.twinx()\n",
    "    ax3 = ax1.twinx()\n",
    "    ax4 = ax1.twinx()\n",
    "\n",
    "    ax1.plot(dates,fg_w_df[fg_w_df.ticker==ticker].loc[dates].close, color='orange',label=ticker)\n",
    "    ax2.plot(dates, list(accumulate(vols)), color='b', label=ticker+' accumulated')\n",
    "    ax3.plot(dates, fg_w_df[fg_w_df.ticker==ticker].loc[dates].fear_greed, color='r', label='Fear and Greed')\n",
    "    ax4.plot(dates, vols, color='g', label='Daily Vol')\n",
    "    \n",
    "    ax1.set_yscale('log')\n",
    "    ax1.legend(loc='lower right')\n",
    "    ax2.legend(loc='upper left')\n",
    "    ax3.legend(loc='upper right')\n",
    "    ax4.legend(loc='lower left')\n",
    "    plt.grid()\n",
    "    plt.show()\n",
    "    \n",
    "    print('%s DCA:    %.6f %s    $%.2f Leftover\\n' % (weight_name, sum(vols), ticker.upper(), params['amount']-spent))\n",
    "\n",
    "print('\\n\\n')"
   ]
  },
  {
   "cell_type": "markdown",
   "metadata": {},
   "source": [
    "## Exponentially decreasing with price"
   ]
  },
  {
   "cell_type": "code",
   "execution_count": null,
   "metadata": {},
   "outputs": [],
   "source": [
    "exp_df = fg_df.copy()"
   ]
  },
  {
   "cell_type": "code",
   "execution_count": null,
   "metadata": {},
   "outputs": [],
   "source": [
    "max_price = 30000\n",
    "min_price = 1000\n",
    "aggression = 1\n",
    "expstr = 'exp_'"
   ]
  },
  {
   "cell_type": "code",
   "execution_count": null,
   "metadata": {
    "scrolled": true
   },
   "outputs": [],
   "source": [
    "exp_dict = {}\n",
    "line = np.linspace(min_price, max_price, 101)\n",
    "\n",
    "exp_weight_df = pd.DataFrame(line, columns=['line'])\n",
    "exp_weight_df.sort_values('line',ascending=False).reset_index(inplace=True)\n",
    "exp_weight_df.index = exp_weight_df.line\n",
    "exp_weight_df"
   ]
  },
  {
   "cell_type": "code",
   "execution_count": null,
   "metadata": {},
   "outputs": [],
   "source": [
    "weight_name = 'normal'\n",
    "# exp_dict[weight_name] = agg1 = lambda x : np.exp(-x/(max_price-min_price)*3+1.2)\n",
    "exp_dict[weight_name] = agg1 = lambda x : np.exp(-3*x/(max_price-min_price))+0.5\n",
    "apply_weighting(exp_weight_df, weight_name, agg1, 'Bitcoin Price', replace=True)"
   ]
  },
  {
   "cell_type": "code",
   "execution_count": null,
   "metadata": {},
   "outputs": [],
   "source": [
    "for weight_name, weight_func in exp_dict.items():\n",
    "    exp_df['%s%s' % (expstr, weight_name)] =  exp_df.close.apply(weight_func)"
   ]
  },
  {
   "cell_type": "code",
   "execution_count": null,
   "metadata": {
    "scrolled": false
   },
   "outputs": [],
   "source": [
    "params = {'amount':   90000,\n",
    "          'freq_d':   1,\n",
    "          'dollar':   100\n",
    "         }\n",
    "\n",
    "df = exp_df\n",
    "\n",
    "\n",
    "for ticker in all_tickers:\n",
    "    if ticker == 'btc':\n",
    "\n",
    "        print(ticker.upper(),'\\n')\n",
    "        this_df = df[df.ticker==ticker]\n",
    "\n",
    "        my_dca = DCA(params['amount'], this_df)\n",
    "\n",
    "\n",
    "        vols, spent, prices = my_dca.get_average(params['dollar'], params['freq_d'], ticker, )\n",
    "        print('Regular DCA:    %.6f %s   $%.2f Leftover\\n' % (sum(vols), ticker.upper(), params['amount'] - spent))\n",
    "\n",
    "        # Calculating the bought volume for the each\n",
    "        for weight_name in exp_dict:\n",
    "            vols, spent, prices = my_dca.get_average(params['dollar'], params['freq_d'], ticker, weighting='%s%s'%(expstr, weight_name))\n",
    "            print('%s DCA:    %.6f %s    $%.2f Leftover\\n' % (weight_name, sum(vols), ticker.upper(), params['amount'] - spent))\n",
    "\n",
    "        print('\\n\\n')"
   ]
  },
  {
   "cell_type": "code",
   "execution_count": null,
   "metadata": {},
   "outputs": [],
   "source": []
  },
  {
   "cell_type": "code",
   "execution_count": null,
   "metadata": {},
   "outputs": [],
   "source": []
  },
  {
   "cell_type": "code",
   "execution_count": null,
   "metadata": {},
   "outputs": [],
   "source": []
  },
  {
   "cell_type": "code",
   "execution_count": null,
   "metadata": {},
   "outputs": [],
   "source": []
  }
 ],
 "metadata": {
  "kernelspec": {
   "display_name": "venv",
   "language": "python",
   "name": "venv"
  },
  "language_info": {
   "codemirror_mode": {
    "name": "ipython",
    "version": 3
   },
   "file_extension": ".py",
   "mimetype": "text/x-python",
   "name": "python",
   "nbconvert_exporter": "python",
   "pygments_lexer": "ipython3",
   "version": "3.8.5"
  }
 },
 "nbformat": 4,
 "nbformat_minor": 4
}
